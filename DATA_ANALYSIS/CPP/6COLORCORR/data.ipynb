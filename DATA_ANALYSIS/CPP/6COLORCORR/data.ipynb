{
 "cells": [
  {
   "cell_type": "code",
   "execution_count": 1,
   "metadata": {},
   "outputs": [],
   "source": [
    "import matplotlib.pyplot as plt\n",
    "plt.rcParams['text.usetex'] = True\n",
    "from scipy.interpolate import make_interp_spline \n",
    "import numpy as np\n",
    "\n",
    "def average(list):\n",
    "    return sum(list)/len(list)\n",
    "\n",
    "def standarddeviation(list):\n",
    "    averageofthelist = average(list)\n",
    "    newlist = [ (elementofthelist - averageofthelist)**2 for elementofthelist in list ]\n",
    "    sigmasquared  = average(newlist)\n",
    "    sigma = sigmasquared**0.5\n",
    "    return sigma\n",
    "\n",
    "def autocorrelation(list, lag):\n",
    "    xi = list[:-lag]\n",
    "    xiplust = list[lag:]\n",
    "    xitimesxiplust = [ i*iplust for (i, iplust) in zip(xi, xiplust) ]\n",
    "    averageofxitimexiplust = average(xitimesxiplust)\n",
    "    averageofxi = average(xi)\n",
    "    averageofxiplust = average(xiplust)\n",
    "    autocorrelationvalue = averageofxitimexiplust - (averageofxi*averageofxiplust)\n",
    "    return autocorrelationvalue\n",
    "\n",
    "def integratedautocorrelation(list):\n",
    "    selfcorrelation = standarddeviation(list)\n",
    "    integratedautocorrelationvalues = [1/2]\n",
    "    for lag in range(1, len(list)):\n",
    "        normalisedautocorrelation = autocorrelation(list, lag)/selfcorrelation\n",
    "        integratedautocorrelationvalues.append(integratedautocorrelationvalues[-1] + normalisedautocorrelation)\n",
    "\n",
    "    return integratedautocorrelationvalues\n",
    "\n",
    "def error(list):\n",
    "    baseerror = standarddeviation(list)/((len(list))**0.5)\n",
    "    integratedautocorrelationvalues = integratedautocorrelation(list)\n",
    "    for i in range(1,len(integratedautocorrelationvalues)):\n",
    "        if integratedautocorrelationvalues[i-1] > integratedautocorrelationvalues[i]:\n",
    "            newerror = ((2*integratedautocorrelationvalues[i])**0.5)*baseerror\n",
    "            break\n",
    "    else:\n",
    "        newerror = ((2*integratedautocorrelationvalues[-1])**0.5)*baseerror\n",
    "    \n",
    "    return newerror\n",
    "\n",
    "def plotwitherror(xvals, yvals, err):\n",
    "    _, ax = plt.subplots()\n",
    "    gfg = make_interp_spline(xvals, yvals, k=3) \n",
    "    xnew = np.linspace(min(xvals), max(xvals), 300) \n",
    "    ynew = gfg(xnew)\n",
    "    ax.plot(xnew, ynew, color='blue', linestyle='-.')\n",
    "    ax.errorbar(xvals, yvals, yerr=err, fmt='.', color='blue', capsize=2)\n",
    "    ax.set_title(r\"$\\int dt \\langle ~\\mathrm{Tr}(X(t)X(t)) ~ \\mathrm{Tr}(X(t + \\Delta t)X(t + \\Delta t)) ~ \\rangle$ vs $\\Delta t$\" )\n",
    "    plt.savefig(\"6colorcorr.png\", dpi=500)\n",
    "    plt.show()"
   ]
  },
  {
   "cell_type": "code",
   "execution_count": 2,
   "metadata": {},
   "outputs": [],
   "source": [
    "\n",
    "def read(file):\n",
    "    with open(file, 'r') as f:\n",
    "        data = f.read()\n",
    "    \n",
    "    rows = data.split('\\n')[1:-1]\n",
    "    elements = [row.split(' ')[1:-9] for row in rows]\n",
    "    corrs = [[] for e in elements[1]]\n",
    "\n",
    "    for element in elements:\n",
    "        i=0\n",
    "        for entry in element:\n",
    "            corrs[i].append(float(entry))\n",
    "            i+=1\n",
    "\n",
    "    averages = []\n",
    "    for corr in corrs:\n",
    "        averages.append(average(corr))\n",
    "    \n",
    "    return averages\n",
    "    \n"
   ]
  },
  {
   "cell_type": "code",
   "execution_count": 3,
   "metadata": {},
   "outputs": [],
   "source": [
    "nums = [3,6,11,16]\n",
    "\n",
    "fileaverages = []\n",
    "\n",
    "for num in nums:\n",
    "    fileaverages.append(read(f'{num}.dat'))"
   ]
  },
  {
   "cell_type": "code",
   "execution_count": 4,
   "metadata": {},
   "outputs": [],
   "source": [
    "singlecorrlists = [[] for _ in fileaverages[1]]\n",
    "\n",
    "for file in fileaverages:\n",
    "    i = 0\n",
    "    for entry in file:\n",
    "        singlecorrlists[i].append(entry)\n",
    "        i = i+1\n"
   ]
  },
  {
   "cell_type": "code",
   "execution_count": 5,
   "metadata": {},
   "outputs": [],
   "source": [
    "newdata = [average(singlecorr) for singlecorr in singlecorrlists]\n",
    "newerrors = [standarddeviation(singlecorr)/(len(singlecorr)**0.5) for singlecorr in singlecorrlists]\n",
    "t = [1,2,3,4,5,6,7,8]"
   ]
  },
  {
   "cell_type": "code",
   "execution_count": 6,
   "metadata": {},
   "outputs": [
    {
     "data": {
      "image/png": "[encoded data removed]",
      "text/plain": [
       "<Figure size 640x480 with 1 Axes>"
      ]
     },
     "metadata": {},
     "output_type": "display_data"
    }
   ],
   "source": [
    "plotwitherror(t, newdata, newerrors)"
   ]
  },
  {
   "cell_type": "code",
   "execution_count": null,
   "metadata": {},
   "outputs": [],
   "source": []
  }
 ],
 "metadata": {
  "kernelspec": {
   "display_name": "Python 3",
   "language": "python",
   "name": "python3"
  },
  "language_info": {
   "codemirror_mode": {
    "name": "ipython",
    "version": 3
   },
   "file_extension": ".py",
   "mimetype": "text/x-python",
   "name": "python",
   "nbconvert_exporter": "python",
   "pygments_lexer": "ipython3",
   "version": "3.11.0"
  },
  "orig_nbformat": 4,
  "vscode": {
   "interpreter": {
    "hash": "916dbcbb3f70747c44a77c7bcd40155683ae19c65e1c03b4aa3499c5328201f1"
   }
  }
 },
 "nbformat": 4,
 "nbformat_minor": 2
}
